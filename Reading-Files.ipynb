{
 "cells": [
  {
   "cell_type": "code",
   "execution_count": 4,
   "metadata": {
    "collapsed": true
   },
   "outputs": [],
   "source": [
    "%matplotlib inline\n",
    "import numpy as np\n",
    "import scipy as sp\n",
    "import matplotlib.pylab as plt\n",
    "from __future__ import print_function, division # bring the print function and division of Python3 to 2.7"
   ]
  },
  {
   "cell_type": "markdown",
   "metadata": {},
   "source": [
    "### Reading a File\n",
    "\n",
    "This is an example on how to read a text file where each line represents a bin and the value gives us the content of each bin. Ie, we don't have access to the raw data, only the *binned data*. "
   ]
  },
  {
   "cell_type": "code",
   "execution_count": 5,
   "metadata": {},
   "outputs": [
    {
     "name": "stdout",
     "output_type": "stream",
     "text": [
      "invalid literal for int() with base 10: ''\n",
      "Line number: \\\"\\\" cannot be converted to integer\n"
     ]
    }
   ],
   "source": [
    "file = open(\"../../Lab data 2016/quartzsignal_his.dat\")\n",
    "nbins = 0\n",
    "lines = file.readlines()\n",
    "hist = []\n",
    "#print lines\n",
    "for line in lines:\n",
    "    line = line.replace('\\r\\n','')\n",
    "    line = line.replace('\\t','')\n",
    "    try:\n",
    "        hist.append(int(line.replace('\\n', '')))\n",
    "        nbins += 1\n",
    "    except Exception as e:\n",
    "        print (e)\n",
    "        print (r\"Line number: \\\"%s\\\" cannot be converted to integer\" %(line))\n",
    "        \n",
    "file.close()   "
   ]
  },
  {
   "cell_type": "code",
   "execution_count": 6,
   "metadata": {
    "collapsed": true
   },
   "outputs": [],
   "source": [
    "binedges = range(0,nbins+1,1)"
   ]
  },
  {
   "cell_type": "code",
   "execution_count": 7,
   "metadata": {},
   "outputs": [
    {
     "data": {
      "image/png": "[encoded data removed]",
      "text/plain": [
       "<matplotlib.figure.Figure at 0x10680f590>"
      ]
     },
     "metadata": {},
     "output_type": "display_data"
    }
   ],
   "source": [
    "fig, ax = plt.subplots(figsize=(8,6))\n",
    "plt.grid()\n",
    "ax.bar(binedges[:-1],hist,width=np.diff(binedges), align=\"edge\")\n",
    "ax.set_xlabel(\"ADC channel\")\n",
    "ax.set_ylabel(\"counts\")\n",
    "ax.set_xlim(0,1000)\n",
    "plt.show()"
   ]
  }
 ],
 "metadata": {
  "hide_input": false,
  "kernelspec": {
   "display_name": "Python 2",
   "language": "python",
   "name": "python2"
  },
  "language_info": {
   "codemirror_mode": {
    "name": "ipython",
    "version": 2
   },
   "file_extension": ".py",
   "mimetype": "text/x-python",
   "name": "python",
   "nbconvert_exporter": "python",
   "pygments_lexer": "ipython2",
   "version": "2.7.9"
  },
  "latex_envs": {
   "bibliofile": "biblio.bib",
   "cite_by": "apalike",
   "current_citInitial": 1,
   "eqLabelWithNumbers": true,
   "eqNumInitial": 0
  }
 },
 "nbformat": 4,
 "nbformat_minor": 2
}
